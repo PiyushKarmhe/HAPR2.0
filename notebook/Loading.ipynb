{
 "cells": [
  {
   "cell_type": "code",
   "execution_count": 1,
   "id": "3e26068e",
   "metadata": {
    "scrolled": true
   },
   "outputs": [],
   "source": [
    "import numpy as np \n",
    "import pandas as pd\n",
    "import neattext.functions as nfx\n",
    "from keras_preprocessing.sequence import pad_sequences\n",
    "import pickle"
   ]
  },
  {
   "cell_type": "code",
   "execution_count": 2,
   "id": "88203da1",
   "metadata": {},
   "outputs": [
    {
     "name": "stderr",
     "output_type": "stream",
     "text": [
      "2022-09-22 21:28:46.335442: I tensorflow/core/platform/cpu_feature_guard.cc:193] This TensorFlow binary is optimized with oneAPI Deep Neural Network Library (oneDNN) to use the following CPU instructions in performance-critical operations:  AVX2 FMA\n",
      "To enable them in other operations, rebuild TensorFlow with the appropriate compiler flags.\n",
      "2022-09-22 21:28:46.444295: W tensorflow/stream_executor/platform/default/dso_loader.cc:64] Could not load dynamic library 'libcudart.so.11.0'; dlerror: libcudart.so.11.0: cannot open shared object file: No such file or directory\n",
      "2022-09-22 21:28:46.444314: I tensorflow/stream_executor/cuda/cudart_stub.cc:29] Ignore above cudart dlerror if you do not have a GPU set up on your machine.\n",
      "2022-09-22 21:28:46.464030: E tensorflow/stream_executor/cuda/cuda_blas.cc:2981] Unable to register cuBLAS factory: Attempting to register factory for plugin cuBLAS when one has already been registered\n",
      "2022-09-22 21:28:47.028431: W tensorflow/stream_executor/platform/default/dso_loader.cc:64] Could not load dynamic library 'libnvinfer.so.7'; dlerror: libnvinfer.so.7: cannot open shared object file: No such file or directory\n",
      "2022-09-22 21:28:47.028535: W tensorflow/stream_executor/platform/default/dso_loader.cc:64] Could not load dynamic library 'libnvinfer_plugin.so.7'; dlerror: libnvinfer_plugin.so.7: cannot open shared object file: No such file or directory\n",
      "2022-09-22 21:28:47.028542: W tensorflow/compiler/tf2tensorrt/utils/py_utils.cc:38] TF-TRT Warning: Cannot dlopen some TensorRT libraries. If you would like to use Nvidia GPU with TensorRT, please make sure the missing libraries mentioned above are installed properly.\n",
      "2022-09-22 21:28:47.694569: W tensorflow/stream_executor/platform/default/dso_loader.cc:64] Could not load dynamic library 'libcuda.so.1'; dlerror: libcuda.so.1: cannot open shared object file: No such file or directory\n",
      "2022-09-22 21:28:47.694598: W tensorflow/stream_executor/cuda/cuda_driver.cc:263] failed call to cuInit: UNKNOWN ERROR (303)\n",
      "2022-09-22 21:28:47.694614: I tensorflow/stream_executor/cuda/cuda_diagnostics.cc:156] kernel driver does not appear to be running on this host (piyushLap): /proc/driver/nvidia/version does not exist\n",
      "2022-09-22 21:28:47.694819: I tensorflow/core/platform/cpu_feature_guard.cc:193] This TensorFlow binary is optimized with oneAPI Deep Neural Network Library (oneDNN) to use the following CPU instructions in performance-critical operations:  AVX2 FMA\n",
      "To enable them in other operations, rebuild TensorFlow with the appropriate compiler flags.\n",
      "2022-09-22 21:28:47.718060: W tensorflow/core/framework/cpu_allocator_impl.cc:82] Allocation of 326242800 exceeds 10% of free system memory.\n",
      "2022-09-22 21:28:47.811578: W tensorflow/core/framework/cpu_allocator_impl.cc:82] Allocation of 326242800 exceeds 10% of free system memory.\n",
      "2022-09-22 21:28:47.860111: W tensorflow/core/framework/cpu_allocator_impl.cc:82] Allocation of 326242800 exceeds 10% of free system memory.\n",
      "2022-09-22 21:28:48.826670: W tensorflow/core/framework/cpu_allocator_impl.cc:82] Allocation of 326242800 exceeds 10% of free system memory.\n"
     ]
    }
   ],
   "source": [
    "from tensorflow import keras\n",
    "model = keras.models.load_model('Model___Date_Time_2022_09_22__21_26_34___Loss_0.18113407492637634___Accuracy_0.931078314781189.h5')"
   ]
  },
  {
   "cell_type": "code",
   "execution_count": 3,
   "id": "b231b448",
   "metadata": {},
   "outputs": [],
   "source": [
    "def clean_word(text):\n",
    "    sent=text\n",
    "    sent=sent.lower()\n",
    "    sent=nfx.remove_special_characters(sent)\n",
    "    sent=nfx.remove_stopwords(sent)\n",
    "    return sent,len(sent.split())"
   ]
  },
  {
   "cell_type": "code",
   "execution_count": 9,
   "id": "93599a2d",
   "metadata": {},
   "outputs": [],
   "source": [
    "text = \"\"\"Ex Wife Threatening SuicideRecently I left my wife for good because she has cheated on me twice and lied to me so much that I have decided to refuse to go back to her. As of a few days ago, she began threatening suicide. I have tirelessly spent these paat few days talking her out of it and she keeps hesitating because she wants to believe I'll come back. I know a lot of people will threaten this in order to get their way, but what happens if she really does? What do I do and how am I supposed to handle her death on my hands? I still love my wife but I cannot deal with getting cheated on again and constantly feeling insecure. I'm worried today may be the day she does it and I hope so much it doesn't happen.\"\"\""
   ]
  },
  {
   "cell_type": "code",
   "execution_count": 10,
   "id": "dc869b6b",
   "metadata": {},
   "outputs": [],
   "source": [
    "c_text,text_l=clean_word(text)"
   ]
  },
  {
   "cell_type": "code",
   "execution_count": 11,
   "id": "f95ba29b",
   "metadata": {},
   "outputs": [],
   "source": [
    "with open('tokenizer.pickle', 'rb') as handle:\n",
    "    tokenizer = pickle.load(handle)"
   ]
  },
  {
   "cell_type": "code",
   "execution_count": 12,
   "id": "81cfd0ee",
   "metadata": {},
   "outputs": [],
   "source": [
    "text_seq=tokenizer.texts_to_sequences([c_text])\n",
    "text_pad=pad_sequences(text_seq,maxlen=50)"
   ]
  },
  {
   "cell_type": "code",
   "execution_count": 13,
   "id": "aaa7aa04",
   "metadata": {},
   "outputs": [
    {
     "name": "stdout",
     "output_type": "stream",
     "text": [
      "1/1 [==============================] - 0s 18ms/step\n"
     ]
    },
    {
     "data": {
      "text/plain": [
       "array([[1]], dtype=int32)"
      ]
     },
     "execution_count": 13,
     "metadata": {},
     "output_type": "execute_result"
    }
   ],
   "source": [
    "(model.predict(text_pad) > 0.5).astype(\"int32\")"
   ]
  }
 ],
 "metadata": {
  "kernelspec": {
   "display_name": "Python 3 (ipykernel)",
   "language": "python",
   "name": "python3"
  },
  "language_info": {
   "codemirror_mode": {
    "name": "ipython",
    "version": 3
   },
   "file_extension": ".py",
   "mimetype": "text/x-python",
   "name": "python",
   "nbconvert_exporter": "python",
   "pygments_lexer": "ipython3",
   "version": "3.10.7"
  }
 },
 "nbformat": 4,
 "nbformat_minor": 5
}
