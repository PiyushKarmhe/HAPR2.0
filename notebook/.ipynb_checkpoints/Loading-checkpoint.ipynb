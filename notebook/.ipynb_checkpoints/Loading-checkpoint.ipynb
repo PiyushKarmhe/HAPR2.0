{
 "cells": [
  {
   "cell_type": "code",
   "execution_count": null,
   "id": "3e26068e",
   "metadata": {
    "scrolled": true
   },
   "outputs": [],
   "source": [
    "import numpy as np \n",
    "import pandas as pd\n",
    "from sklearn.model_selection import train_test_split\n",
    "import neattext.functions as nfx\n",
    "from sklearn.metrics import classification_report\n",
    "import keras\n",
    "from keras.layers import Embedding,Dense,LSTM,Bidirectional,GlobalMaxPooling1D,Input,Dropout\n",
    "from keras.callbacks import EarlyStopping,ReduceLROnPlateau\n",
    "from keras.models import Sequential\n",
    "import tensorflow as tf\n",
    "from keras.preprocessing.text import Tokenizer\n",
    "from keras_preprocessing.sequence import pad_sequences\n",
    "import pickle\n",
    "import warnings\n",
    "warnings.filterwarnings('ignore')"
   ]
  },
  {
   "cell_type": "code",
   "execution_count": 12,
   "id": "88203da1",
   "metadata": {},
   "outputs": [
    {
     "name": "stderr",
     "output_type": "stream",
     "text": [
      "2022-09-22 15:46:47.423611: W tensorflow/core/framework/cpu_allocator_impl.cc:82] Allocation of 326242800 exceeds 10% of free system memory.\n"
     ]
    }
   ],
   "source": [
    "from tensorflow import keras\n",
    "model = keras.models.load_model('Model___Date_Time_2022_09_22__14_22_33___Loss_0.17781001329421997___Accuracy_0.9325002431869507.h5')"
   ]
  },
  {
   "cell_type": "code",
   "execution_count": 4,
   "id": "b231b448",
   "metadata": {},
   "outputs": [],
   "source": [
    "def clean_word(text):\n",
    "    sent=text\n",
    "    sent=sent.lower()\n",
    "    sent=nfx.remove_special_characters(sent)\n",
    "    sent=nfx.remove_stopwords(sent)\n",
    "    return sent,len(sent.split())"
   ]
  },
  {
   "cell_type": "code",
   "execution_count": 5,
   "id": "93599a2d",
   "metadata": {},
   "outputs": [],
   "source": [
    "text = \"\"\"death, continuedI posted here before and saw something interesting.  I asked for information.  You know what I got back?  A bunch of people who wanted to do the same thing to me as they always do: spit back personal information about me.  This makes things worse, obviously, but at least a bunch of trolls are having laughs. In the end, my desire to self-terminate grows stronger.  I have so little left now, but still have the same bitterness, just a bit stronger now.  The main goal throughout the process is to minimize the subsequent fallout.  It would certainly have been nice had the patrons of this forum been more respectful of my privacy, but that was obviously a bit of a ridiculous expectation, considering the source.\"\"\""
   ]
  },
  {
   "cell_type": "code",
   "execution_count": 6,
   "id": "dc869b6b",
   "metadata": {},
   "outputs": [],
   "source": [
    "c_text,text_l=clean_word(text)"
   ]
  },
  {
   "cell_type": "code",
   "execution_count": 8,
   "id": "f95ba29b",
   "metadata": {},
   "outputs": [],
   "source": [
    "with open('tokenizer.pickle', 'rb') as handle:\n",
    "    tokenizer = pickle.load(handle)"
   ]
  },
  {
   "cell_type": "code",
   "execution_count": 9,
   "id": "81cfd0ee",
   "metadata": {},
   "outputs": [],
   "source": [
    "text_seq=tokenizer.texts_to_sequences([c_text])\n",
    "text_pad=pad_sequences(text_seq,maxlen=50)"
   ]
  },
  {
   "cell_type": "code",
   "execution_count": 10,
   "id": "aaa7aa04",
   "metadata": {},
   "outputs": [
    {
     "name": "stdout",
     "output_type": "stream",
     "text": [
      "1/1 [==============================] - 0s 415ms/step\n"
     ]
    },
    {
     "data": {
      "text/plain": [
       "array([[1]], dtype=int32)"
      ]
     },
     "execution_count": 10,
     "metadata": {},
     "output_type": "execute_result"
    }
   ],
   "source": [
    "(model.predict(text_pad) > 0.5).astype(\"int32\")"
   ]
  },
  {
   "cell_type": "code",
   "execution_count": null,
   "id": "8ff44ab4",
   "metadata": {},
   "outputs": [],
   "source": []
  },
  {
   "cell_type": "code",
   "execution_count": null,
   "id": "eed4dedd",
   "metadata": {},
   "outputs": [],
   "source": []
  },
  {
   "cell_type": "code",
   "execution_count": null,
   "id": "de5510b6",
   "metadata": {},
   "outputs": [],
   "source": []
  },
  {
   "cell_type": "code",
   "execution_count": null,
   "id": "9f8ed6eb",
   "metadata": {},
   "outputs": [],
   "source": []
  }
 ],
 "metadata": {
  "kernelspec": {
   "display_name": "Python 3 (ipykernel)",
   "language": "python",
   "name": "python3"
  },
  "language_info": {
   "codemirror_mode": {
    "name": "ipython",
    "version": 3
   },
   "file_extension": ".py",
   "mimetype": "text/x-python",
   "name": "python",
   "nbconvert_exporter": "python",
   "pygments_lexer": "ipython3",
   "version": "3.10.7"
  }
 },
 "nbformat": 4,
 "nbformat_minor": 5
}
